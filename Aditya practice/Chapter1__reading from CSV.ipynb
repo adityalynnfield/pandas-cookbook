{
 "cells": [
  {
   "cell_type": "code",
   "execution_count": null,
   "metadata": {},
   "outputs": [],
   "source": [
    "# importing pandas\n",
    "import pandas as pd\n",
    "#import madplotlib\n",
    "import matplotlib.pyplot as plt\n",
    "#.read_csv reads the data from the CSV file \n",
    "#1st parameter is relative path for the file\n",
    "#second parameter is the seperator in the file\n",
    "#third parameter is the enconding language(default is UTF 8)\n",
    "#fourth parameter parses the date and puts it in the standard format\n",
    "#5th parameter makes it so the day is always first\n",
    "#6th parameter changes the values in the date column\n",
    "fixed_df = pd.read_csv('../data/bikes.csv',  sep=';', encoding='latin1', parse_dates=['Date'], dayfirst=True, index_col='Date')\n",
    "fixed_df[:3]\n",
    "#plotting the data\n",
    "fixed_df['Berri 1'].plot()\n",
    "fixed_df.plot(figsize = (15,10))"
   ]
  }
 ],
 "metadata": {
  "kernelspec": {
   "display_name": ".venv",
   "language": "python",
   "name": "python3"
  },
  "language_info": {
   "codemirror_mode": {
    "name": "ipython",
    "version": 3
   },
   "file_extension": ".py",
   "mimetype": "text/x-python",
   "name": "python",
   "nbconvert_exporter": "python",
   "pygments_lexer": "ipython3",
   "version": "3.12.2"
  }
 },
 "nbformat": 4,
 "nbformat_minor": 2
}
